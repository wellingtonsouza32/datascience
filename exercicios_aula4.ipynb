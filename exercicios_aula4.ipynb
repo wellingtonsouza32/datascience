{
  "cells": [
    {
      "cell_type": "markdown",
      "metadata": {
        "id": "view-in-github",
        "colab_type": "text"
      },
      "source": [
        "<a href=\"https://colab.research.google.com/github/wellingtonsouza32/datascience_materialestudo/blob/main/exercicios_aula4.ipynb\" target=\"_parent\"><img src=\"https://colab.research.google.com/assets/colab-badge.svg\" alt=\"Open In Colab\"/></a>"
      ]
    },
    {
      "cell_type": "code",
      "source": [
        "import pandas as pd"
      ],
      "metadata": {
        "id": "xAFCS9uCFNs-"
      },
      "id": "xAFCS9uCFNs-",
      "execution_count": 1,
      "outputs": []
    },
    {
      "cell_type": "code",
      "source": [
        "from google.colab import drive\n",
        "drive.mount('/content/drive')"
      ],
      "metadata": {
        "id": "MR2WxkIJGhCY",
        "colab": {
          "base_uri": "https://localhost:8080/"
        },
        "outputId": "d332e6bc-eb98-402b-aa56-6713384e8595"
      },
      "id": "MR2WxkIJGhCY",
      "execution_count": 5,
      "outputs": [
        {
          "output_type": "stream",
          "name": "stdout",
          "text": [
            "Drive already mounted at /content/drive; to attempt to forcibly remount, call drive.mount(\"/content/drive\", force_remount=True).\n"
          ]
        }
      ]
    },
    {
      "cell_type": "markdown",
      "id": "356cb35d",
      "metadata": {
        "id": "356cb35d"
      },
      "source": [
        "# Exercício 1.0"
      ]
    },
    {
      "cell_type": "markdown",
      "id": "96a0f0d7",
      "metadata": {
        "id": "96a0f0d7"
      },
      "source": [
        "## Problema"
      ]
    },
    {
      "cell_type": "markdown",
      "id": "e9e8107f",
      "metadata": {
        "ExecuteTime": {
          "end_time": "2021-09-23T01:15:31.266217Z",
          "start_time": "2021-09-23T01:15:31.260904Z"
        },
        "id": "e9e8107f"
      },
      "source": [
        "Crie uma função que efetue a leitura do arquivo produzido no exemplo 1 (levels.csv) e mostre na tela as seguintes informações estatísticas:\n",
        "\n",
        "* Quantidade total de acidentes\n",
        "* Quantidade total de acidentes agrupados por tipo de aeronave (type)\n",
        "* Ano e fabricante da aeronave mais antiga (year_manufacturing, manufacturer)\n",
        "* Quantidade de assentos e tipo de motor da aeronave mais nova (seating, engine_type)\n",
        "* A quantidade de acidentes que ocorreram com aeronaves do tipo (type) HELICÓPTERO, cuja fabricação se deu após o ano 1997\n",
        "* A quantidade de acidentes que ocorreram com aeronaves do tipo (type) AVIÃO fabricadas (manufacturer) pela CESSNA AIRCRAFT"
      ]
    },
    {
      "cell_type": "markdown",
      "id": "719448b9",
      "metadata": {
        "id": "719448b9"
      },
      "source": [
        "## Resolução e Resposta"
      ]
    },
    {
      "cell_type": "code",
      "execution_count": 28,
      "id": "13a59a4f",
      "metadata": {
        "ExecuteTime": {
          "end_time": "2021-09-26T21:33:34.808097Z",
          "start_time": "2021-09-26T21:33:34.805732Z"
        },
        "id": "13a59a4f",
        "colab": {
          "base_uri": "https://localhost:8080/",
          "height": 692
        },
        "outputId": "9f8bc66e-5f6f-4c64-f46b-277b76f2b689"
      },
      "outputs": [
        {
          "output_type": "execute_result",
          "data": {
            "text/plain": [
              "               operation         type                 manufacturer  \\\n",
              "0   OPERADOR DE AERONAVE        AVIÃO  NEIVA INDUSTRIA AERONAUTICA   \n",
              "1      ESCOLA DE AVIAÇÃO  HELICÓPTERO          ROBINSON HELICOPTER   \n",
              "2   OPERADOR DE AERONAVE        AVIÃO              CESSNA AIRCRAFT   \n",
              "3    OPERADOR PARTICULAR  HELICÓPTERO            EUROCOPTER FRANCE   \n",
              "4          ÓRGÃO PÚBLICO  HELICÓPTERO            EUROCOPTER FRANCE   \n",
              "5    OPERADOR PARTICULAR        AVIÃO  NEIVA INDUSTRIA AERONAUTICA   \n",
              "6    OPERADOR PARTICULAR  HELICÓPTERO              BELL HELICOPTER   \n",
              "7    OPERADOR PARTICULAR    ULTRALEVE                          ***   \n",
              "8   OPERADOR DE AERONAVE        AVIÃO  NEIVA INDUSTRIA AERONAUTICA   \n",
              "9   OPERADOR DE AERONAVE        AVIÃO              CESSNA AIRCRAFT   \n",
              "10  OPERADOR DE AERONAVE        AVIÃO  NEIVA INDUSTRIA AERONAUTICA   \n",
              "11  OPERADOR DE AERONAVE  HELICÓPTERO                     HELIBRAS   \n",
              "12   OPERADOR PARTICULAR    ULTRALEVE             ROBSON DIAS LIMA   \n",
              "\n",
              "   engine_type    engines  year_manufacturing  seating  fatalities  \n",
              "0       PISTÃO  MONOMOTOR                1977        4           1  \n",
              "1       PISTÃO  MONOMOTOR                1997        2           2  \n",
              "2       PISTÃO  MONOMOTOR                1979        1           1  \n",
              "3    TURBOEIXO  MONOMOTOR                2005        7           1  \n",
              "4    TURBOEIXO  MONOMOTOR                1997        6           1  \n",
              "5       PISTÃO  MONOMOTOR                1976        4           1  \n",
              "6    TURBOEIXO  MONOMOTOR                1973        5           1  \n",
              "7       PISTÃO  MONOMOTOR                2009        2           1  \n",
              "8       PISTÃO  MONOMOTOR                1993        1           1  \n",
              "9       PISTÃO  MONOMOTOR                1946        2           2  \n",
              "10      PISTÃO  MONOMOTOR                1974        1           1  \n",
              "11   TURBOEIXO  MONOMOTOR                2009        6           1  \n",
              "12      PISTÃO  MONOMOTOR                2011        2           1  "
            ],
            "text/html": [
              "\n",
              "  <div id=\"df-c5885273-163a-4780-a347-76f7d39343bd\">\n",
              "    <div class=\"colab-df-container\">\n",
              "      <div>\n",
              "<style scoped>\n",
              "    .dataframe tbody tr th:only-of-type {\n",
              "        vertical-align: middle;\n",
              "    }\n",
              "\n",
              "    .dataframe tbody tr th {\n",
              "        vertical-align: top;\n",
              "    }\n",
              "\n",
              "    .dataframe thead th {\n",
              "        text-align: right;\n",
              "    }\n",
              "</style>\n",
              "<table border=\"1\" class=\"dataframe\">\n",
              "  <thead>\n",
              "    <tr style=\"text-align: right;\">\n",
              "      <th></th>\n",
              "      <th>operation</th>\n",
              "      <th>type</th>\n",
              "      <th>manufacturer</th>\n",
              "      <th>engine_type</th>\n",
              "      <th>engines</th>\n",
              "      <th>year_manufacturing</th>\n",
              "      <th>seating</th>\n",
              "      <th>fatalities</th>\n",
              "    </tr>\n",
              "  </thead>\n",
              "  <tbody>\n",
              "    <tr>\n",
              "      <th>0</th>\n",
              "      <td>OPERADOR DE AERONAVE</td>\n",
              "      <td>AVIÃO</td>\n",
              "      <td>NEIVA INDUSTRIA AERONAUTICA</td>\n",
              "      <td>PISTÃO</td>\n",
              "      <td>MONOMOTOR</td>\n",
              "      <td>1977</td>\n",
              "      <td>4</td>\n",
              "      <td>1</td>\n",
              "    </tr>\n",
              "    <tr>\n",
              "      <th>1</th>\n",
              "      <td>ESCOLA DE AVIAÇÃO</td>\n",
              "      <td>HELICÓPTERO</td>\n",
              "      <td>ROBINSON HELICOPTER</td>\n",
              "      <td>PISTÃO</td>\n",
              "      <td>MONOMOTOR</td>\n",
              "      <td>1997</td>\n",
              "      <td>2</td>\n",
              "      <td>2</td>\n",
              "    </tr>\n",
              "    <tr>\n",
              "      <th>2</th>\n",
              "      <td>OPERADOR DE AERONAVE</td>\n",
              "      <td>AVIÃO</td>\n",
              "      <td>CESSNA AIRCRAFT</td>\n",
              "      <td>PISTÃO</td>\n",
              "      <td>MONOMOTOR</td>\n",
              "      <td>1979</td>\n",
              "      <td>1</td>\n",
              "      <td>1</td>\n",
              "    </tr>\n",
              "    <tr>\n",
              "      <th>3</th>\n",
              "      <td>OPERADOR PARTICULAR</td>\n",
              "      <td>HELICÓPTERO</td>\n",
              "      <td>EUROCOPTER FRANCE</td>\n",
              "      <td>TURBOEIXO</td>\n",
              "      <td>MONOMOTOR</td>\n",
              "      <td>2005</td>\n",
              "      <td>7</td>\n",
              "      <td>1</td>\n",
              "    </tr>\n",
              "    <tr>\n",
              "      <th>4</th>\n",
              "      <td>ÓRGÃO PÚBLICO</td>\n",
              "      <td>HELICÓPTERO</td>\n",
              "      <td>EUROCOPTER FRANCE</td>\n",
              "      <td>TURBOEIXO</td>\n",
              "      <td>MONOMOTOR</td>\n",
              "      <td>1997</td>\n",
              "      <td>6</td>\n",
              "      <td>1</td>\n",
              "    </tr>\n",
              "    <tr>\n",
              "      <th>5</th>\n",
              "      <td>OPERADOR PARTICULAR</td>\n",
              "      <td>AVIÃO</td>\n",
              "      <td>NEIVA INDUSTRIA AERONAUTICA</td>\n",
              "      <td>PISTÃO</td>\n",
              "      <td>MONOMOTOR</td>\n",
              "      <td>1976</td>\n",
              "      <td>4</td>\n",
              "      <td>1</td>\n",
              "    </tr>\n",
              "    <tr>\n",
              "      <th>6</th>\n",
              "      <td>OPERADOR PARTICULAR</td>\n",
              "      <td>HELICÓPTERO</td>\n",
              "      <td>BELL HELICOPTER</td>\n",
              "      <td>TURBOEIXO</td>\n",
              "      <td>MONOMOTOR</td>\n",
              "      <td>1973</td>\n",
              "      <td>5</td>\n",
              "      <td>1</td>\n",
              "    </tr>\n",
              "    <tr>\n",
              "      <th>7</th>\n",
              "      <td>OPERADOR PARTICULAR</td>\n",
              "      <td>ULTRALEVE</td>\n",
              "      <td>***</td>\n",
              "      <td>PISTÃO</td>\n",
              "      <td>MONOMOTOR</td>\n",
              "      <td>2009</td>\n",
              "      <td>2</td>\n",
              "      <td>1</td>\n",
              "    </tr>\n",
              "    <tr>\n",
              "      <th>8</th>\n",
              "      <td>OPERADOR DE AERONAVE</td>\n",
              "      <td>AVIÃO</td>\n",
              "      <td>NEIVA INDUSTRIA AERONAUTICA</td>\n",
              "      <td>PISTÃO</td>\n",
              "      <td>MONOMOTOR</td>\n",
              "      <td>1993</td>\n",
              "      <td>1</td>\n",
              "      <td>1</td>\n",
              "    </tr>\n",
              "    <tr>\n",
              "      <th>9</th>\n",
              "      <td>OPERADOR DE AERONAVE</td>\n",
              "      <td>AVIÃO</td>\n",
              "      <td>CESSNA AIRCRAFT</td>\n",
              "      <td>PISTÃO</td>\n",
              "      <td>MONOMOTOR</td>\n",
              "      <td>1946</td>\n",
              "      <td>2</td>\n",
              "      <td>2</td>\n",
              "    </tr>\n",
              "    <tr>\n",
              "      <th>10</th>\n",
              "      <td>OPERADOR DE AERONAVE</td>\n",
              "      <td>AVIÃO</td>\n",
              "      <td>NEIVA INDUSTRIA AERONAUTICA</td>\n",
              "      <td>PISTÃO</td>\n",
              "      <td>MONOMOTOR</td>\n",
              "      <td>1974</td>\n",
              "      <td>1</td>\n",
              "      <td>1</td>\n",
              "    </tr>\n",
              "    <tr>\n",
              "      <th>11</th>\n",
              "      <td>OPERADOR DE AERONAVE</td>\n",
              "      <td>HELICÓPTERO</td>\n",
              "      <td>HELIBRAS</td>\n",
              "      <td>TURBOEIXO</td>\n",
              "      <td>MONOMOTOR</td>\n",
              "      <td>2009</td>\n",
              "      <td>6</td>\n",
              "      <td>1</td>\n",
              "    </tr>\n",
              "    <tr>\n",
              "      <th>12</th>\n",
              "      <td>OPERADOR PARTICULAR</td>\n",
              "      <td>ULTRALEVE</td>\n",
              "      <td>ROBSON DIAS LIMA</td>\n",
              "      <td>PISTÃO</td>\n",
              "      <td>MONOMOTOR</td>\n",
              "      <td>2011</td>\n",
              "      <td>2</td>\n",
              "      <td>1</td>\n",
              "    </tr>\n",
              "  </tbody>\n",
              "</table>\n",
              "</div>\n",
              "      <button class=\"colab-df-convert\" onclick=\"convertToInteractive('df-c5885273-163a-4780-a347-76f7d39343bd')\"\n",
              "              title=\"Convert this dataframe to an interactive table.\"\n",
              "              style=\"display:none;\">\n",
              "        \n",
              "  <svg xmlns=\"http://www.w3.org/2000/svg\" height=\"24px\"viewBox=\"0 0 24 24\"\n",
              "       width=\"24px\">\n",
              "    <path d=\"M0 0h24v24H0V0z\" fill=\"none\"/>\n",
              "    <path d=\"M18.56 5.44l.94 2.06.94-2.06 2.06-.94-2.06-.94-.94-2.06-.94 2.06-2.06.94zm-11 1L8.5 8.5l.94-2.06 2.06-.94-2.06-.94L8.5 2.5l-.94 2.06-2.06.94zm10 10l.94 2.06.94-2.06 2.06-.94-2.06-.94-.94-2.06-.94 2.06-2.06.94z\"/><path d=\"M17.41 7.96l-1.37-1.37c-.4-.4-.92-.59-1.43-.59-.52 0-1.04.2-1.43.59L10.3 9.45l-7.72 7.72c-.78.78-.78 2.05 0 2.83L4 21.41c.39.39.9.59 1.41.59.51 0 1.02-.2 1.41-.59l7.78-7.78 2.81-2.81c.8-.78.8-2.07 0-2.86zM5.41 20L4 18.59l7.72-7.72 1.47 1.35L5.41 20z\"/>\n",
              "  </svg>\n",
              "      </button>\n",
              "      \n",
              "  <style>\n",
              "    .colab-df-container {\n",
              "      display:flex;\n",
              "      flex-wrap:wrap;\n",
              "      gap: 12px;\n",
              "    }\n",
              "\n",
              "    .colab-df-convert {\n",
              "      background-color: #E8F0FE;\n",
              "      border: none;\n",
              "      border-radius: 50%;\n",
              "      cursor: pointer;\n",
              "      display: none;\n",
              "      fill: #1967D2;\n",
              "      height: 32px;\n",
              "      padding: 0 0 0 0;\n",
              "      width: 32px;\n",
              "    }\n",
              "\n",
              "    .colab-df-convert:hover {\n",
              "      background-color: #E2EBFA;\n",
              "      box-shadow: 0px 1px 2px rgba(60, 64, 67, 0.3), 0px 1px 3px 1px rgba(60, 64, 67, 0.15);\n",
              "      fill: #174EA6;\n",
              "    }\n",
              "\n",
              "    [theme=dark] .colab-df-convert {\n",
              "      background-color: #3B4455;\n",
              "      fill: #D2E3FC;\n",
              "    }\n",
              "\n",
              "    [theme=dark] .colab-df-convert:hover {\n",
              "      background-color: #434B5C;\n",
              "      box-shadow: 0px 1px 3px 1px rgba(0, 0, 0, 0.15);\n",
              "      filter: drop-shadow(0px 1px 2px rgba(0, 0, 0, 0.3));\n",
              "      fill: #FFFFFF;\n",
              "    }\n",
              "  </style>\n",
              "\n",
              "      <script>\n",
              "        const buttonEl =\n",
              "          document.querySelector('#df-c5885273-163a-4780-a347-76f7d39343bd button.colab-df-convert');\n",
              "        buttonEl.style.display =\n",
              "          google.colab.kernel.accessAllowed ? 'block' : 'none';\n",
              "\n",
              "        async function convertToInteractive(key) {\n",
              "          const element = document.querySelector('#df-c5885273-163a-4780-a347-76f7d39343bd');\n",
              "          const dataTable =\n",
              "            await google.colab.kernel.invokeFunction('convertToInteractive',\n",
              "                                                     [key], {});\n",
              "          if (!dataTable) return;\n",
              "\n",
              "          const docLinkHtml = 'Like what you see? Visit the ' +\n",
              "            '<a target=\"_blank\" href=https://colab.research.google.com/notebooks/data_table.ipynb>data table notebook</a>'\n",
              "            + ' to learn more about interactive tables.';\n",
              "          element.innerHTML = '';\n",
              "          dataTable['output_type'] = 'display_data';\n",
              "          await google.colab.output.renderOutput(dataTable, element);\n",
              "          const docLink = document.createElement('div');\n",
              "          docLink.innerHTML = docLinkHtml;\n",
              "          element.appendChild(docLink);\n",
              "        }\n",
              "      </script>\n",
              "    </div>\n",
              "  </div>\n",
              "  "
            ]
          },
          "metadata": {},
          "execution_count": 28
        }
      ],
      "source": [
        "df = pd.read_csv('/content/drive/MyDrive/Colab Notebooks/levels.csv')\n",
        "df.head(1000)"
      ]
    },
    {
      "cell_type": "code",
      "source": [
        "\n",
        "\n",
        "\n"
      ],
      "metadata": {
        "id": "5CikNxe6HbOe",
        "colab": {
          "base_uri": "https://localhost:8080/"
        },
        "outputId": "b77e669f-fba4-474d-c17f-f660987eea0b"
      },
      "id": "5CikNxe6HbOe",
      "execution_count": 46,
      "outputs": [
        {
          "output_type": "stream",
          "name": "stdout",
          "text": [
            "--A quantidade de acidentes que ocorreram com aeronaves do tipo (type) HELICÓPTERO, cuja fabricação se deu após o ano 1997--\n",
            "7.0\n"
          ]
        }
      ]
    },
    {
      "cell_type": "markdown",
      "source": [],
      "metadata": {
        "id": "hMMz6gFRff_t"
      },
      "id": "hMMz6gFRff_t"
    },
    {
      "cell_type": "code",
      "source": [
        "fabri = df[['year_manufacturing','manufacturer']]\n",
        "antiga = fabri['year_manufacturing'].min()\n",
        "fabri.loc[fabri['year_manufacturing'] == antiga]\n",
        " \n",
        "\n"
      ],
      "metadata": {
        "id": "6sl5Arhmytl2"
      },
      "id": "6sl5Arhmytl2",
      "execution_count": null,
      "outputs": []
    },
    {
      "cell_type": "code",
      "source": [
        "def acidentes():\n",
        "  #Quantidade total de acidentes\n",
        "  df = pd.read_csv('/content/drive/MyDrive/Colab Notebooks/levels.csv')\n",
        "  df = pd.DataFrame(df)\n",
        "  fatal = df['fatalities'].sum()\n",
        "  print(f'A quantidade total de acidentes é : {fatal}')\n",
        "  #Quantidade total de acidentes agrupados por tipo de aeronave (type)\n",
        "  tipo = df[['type', 'fatalities']]\n",
        "  df2 = tipo.groupby([\"type\"])[\"fatalities\"].sum().reset_index()\n",
        "  print (f'--Quantidade total de acidentes agrupados por tipo de aeronave é:--')\n",
        "  print(df2)\n",
        "  #Ano e fabricante da aeronave mais antiga (year_manufacturing, manufacturer)\n",
        "  fabri = df[['year_manufacturing','manufacturer']]\n",
        "  antiga = fabri['year_manufacturing'].min()\n",
        "  print (f'--Ano e fabricante da aeronave mais antiga--')\n",
        "  print (fabri.loc[fabri['year_manufacturing'] == antiga])\n",
        "  #Quantidade de assentos e tipo de motor da aeronave mais nova (seating, engine_type)\n",
        "  assento = df[['year_manufacturing','engine_type','seating']]\n",
        "  assento_motor = assento['year_manufacturing'].max()\n",
        "  print (f'--A Quantidade de assentos e tipo de motor da aeronave mais nova é--')\n",
        "  print (assento.loc[assento['year_manufacturing'] == assento_motor])\n",
        "  #A quantidade de acidentes que ocorreram com aeronaves do tipo (type) HELICÓPTERO, cuja fabricação se deu após o ano 1997\n",
        "  acidente = df[['year_manufacturing','type','fatalities']]\n",
        "  print (f'--A quantidade de acidentes que ocorreram com aeronaves do tipo (type) HELICÓPTERO, cuja fabricação se deu após o ano 1997--')\n",
        "  a = acidente.where(acidente['year_manufacturing']>= 1997)\n",
        "  a.dropna()\n",
        "  t = a['fatalities'].sum()\n",
        "  print (t)\n",
        "  #A quantidade de acidentes que ocorreram com aeronaves do tipo (type) AVIÃO fabricadas (manufacturer) pela CESSNA AIRCRAFT\n",
        "  acidente2 = df[['manufacturer','type','fatalities']]\n",
        "  print(f'--A quantidade de acidentes que ocorreram com aeronaves do tipo (type) AVIÃO fabricadas (manufacturer) pela CESSNA AIRCRAFT--')\n",
        "  total = acidente2.where(acidente2['manufacturer']== 'CESSNA AIRCRAFT')\n",
        "  total.dropna()\n",
        "  valor = total['fatalities'].sum()\n",
        "  print(valor)\n"
      ],
      "metadata": {
        "id": "9bhnzhAnHmX5"
      },
      "id": "9bhnzhAnHmX5",
      "execution_count": 47,
      "outputs": []
    },
    {
      "cell_type": "code",
      "source": [
        "acidentes()"
      ],
      "metadata": {
        "id": "Tfv_Xrl4K75M",
        "colab": {
          "base_uri": "https://localhost:8080/"
        },
        "outputId": "0f64492e-39a1-4ab8-b41d-6421b70c4e5e"
      },
      "id": "Tfv_Xrl4K75M",
      "execution_count": 48,
      "outputs": [
        {
          "output_type": "stream",
          "name": "stdout",
          "text": [
            "A quantidade total de acidentes é : 15\n",
            "--Quantidade total de acidentes agrupados por tipo de aeronave é:--\n",
            "          type  fatalities\n",
            "0        AVIÃO           7\n",
            "1  HELICÓPTERO           6\n",
            "2    ULTRALEVE           2\n",
            "--Ano e fabricante da aeronave mais antiga--\n",
            "   year_manufacturing     manufacturer\n",
            "9                1946  CESSNA AIRCRAFT\n",
            "--A Quantidade de assentos e tipo de motor da aeronave mais nova é--\n",
            "    year_manufacturing engine_type  seating\n",
            "12                2011      PISTÃO        2\n",
            "--A quantidade de acidentes que ocorreram com aeronaves do tipo (type) HELICÓPTERO, cuja fabricação se deu após o ano 1997--\n",
            "7.0\n",
            "--A quantidade de acidentes que ocorreram com aeronaves do tipo (type) AVIÃO fabricadas (manufacturer) pela CESSNA AIRCRAFT--\n",
            "3.0\n"
          ]
        }
      ]
    }
  ],
  "metadata": {
    "kernelspec": {
      "display_name": "Python 3 (ipykernel)",
      "language": "python",
      "name": "python3"
    },
    "language_info": {
      "codemirror_mode": {
        "name": "ipython",
        "version": 3
      },
      "file_extension": ".py",
      "mimetype": "text/x-python",
      "name": "python",
      "nbconvert_exporter": "python",
      "pygments_lexer": "ipython3",
      "version": "3.8.11"
    },
    "latex_envs": {
      "LaTeX_envs_menu_present": true,
      "autoclose": false,
      "autocomplete": true,
      "bibliofile": "biblio.bib",
      "cite_by": "apalike",
      "current_citInitial": 1,
      "eqLabelWithNumbers": true,
      "eqNumInitial": 1,
      "hotkeys": {
        "equation": "Ctrl-E",
        "itemize": "Ctrl-I"
      },
      "labels_anchors": false,
      "latex_user_defs": false,
      "report_style_numbering": false,
      "user_envs_cfg": false
    },
    "colab": {
      "provenance": [],
      "include_colab_link": true
    }
  },
  "nbformat": 4,
  "nbformat_minor": 5
}